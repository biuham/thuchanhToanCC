{
  "nbformat": 4,
  "nbformat_minor": 0,
  "metadata": {
    "colab": {
      "name": "8-2174802010323-Nguyễn Hữu Thịnh.ipynb",
      "provenance": [],
      "authorship_tag": "ABX9TyOvKfPdDlGwFei9VEpXc8rX",
      "include_colab_link": true
    },
    "kernelspec": {
      "name": "python3",
      "display_name": "Python 3"
    },
    "language_info": {
      "name": "python"
    }
  },
  "cells": [
    {
      "cell_type": "markdown",
      "metadata": {
        "id": "view-in-github",
        "colab_type": "text"
      },
      "source": [
        "<a href=\"https://colab.research.google.com/github/biuham/thuchanhtoancc/blob/main/8_2174802010323_Nguy%E1%BB%85n_H%E1%BB%AFu_Th%E1%BB%8Bnh.ipynb\" target=\"_parent\"><img src=\"https://colab.research.google.com/assets/colab-badge.svg\" alt=\"Open In Colab\"/></a>"
      ]
    },
    {
      "cell_type": "markdown",
      "source": [
        "# **Bài 1.1:**"
      ],
      "metadata": {
        "id": "3jL7ERPer1ve"
      }
    },
    {
      "cell_type": "code",
      "execution_count": 14,
      "metadata": {
        "colab": {
          "base_uri": "https://localhost:8080/",
          "height": 39
        },
        "id": "s671z7oUkSi1",
        "outputId": "456dc874-8864-44e8-af0b-6ee6873d120a"
      },
      "outputs": [
        {
          "output_type": "execute_result",
          "data": {
            "text/plain": [
              "-oo - I*pi"
            ],
            "text/latex": "$\\displaystyle -\\infty - i \\pi$"
          },
          "metadata": {},
          "execution_count": 14
        }
      ],
      "source": [
        "from sympy import Symbol, Integral \n",
        "x = Symbol('x') \n",
        "f = (2*x-1)/(x-1) \n",
        "tichphan  = Integral(f, (x, 0,1))\n",
        "tichphan.doit()"
      ]
    },
    {
      "cell_type": "markdown",
      "source": [
        "# **Bài 1.2:**"
      ],
      "metadata": {
        "id": "ukVzGY0ws-nH"
      }
    },
    {
      "cell_type": "code",
      "source": [
        ""
      ],
      "metadata": {
        "id": "Trs9Uxgjt5uS"
      },
      "execution_count": null,
      "outputs": []
    },
    {
      "cell_type": "code",
      "source": [
        "from sympy import Derivative, Symbol, sin\n",
        "x = Symbol('x') \n",
        "f1 = x**4 - 5*x**2 + 4\n",
        "tichphan = Derivative(f1, x)\n",
        "tichphan.doit()"
      ],
      "metadata": {
        "colab": {
          "base_uri": "https://localhost:8080/",
          "height": 39
        },
        "id": "NB3bL_Z6tBBy",
        "outputId": "6430ae5d-1df1-47d3-d701-8ed3aa699ee4"
      },
      "execution_count": 21,
      "outputs": [
        {
          "output_type": "execute_result",
          "data": {
            "text/plain": [
              "4*x**3 - 10*x"
            ],
            "text/latex": "$\\displaystyle 4 x^{3} - 10 x$"
          },
          "metadata": {},
          "execution_count": 21
        }
      ]
    },
    {
      "cell_type": "code",
      "source": [
        "tichphan.subs({x:2})"
      ],
      "metadata": {
        "colab": {
          "base_uri": "https://localhost:8080/",
          "height": 61
        },
        "id": "sZu3ll7Mujk5",
        "outputId": "8eff27fc-3a0e-4713-bb1e-1725d9c4b392"
      },
      "execution_count": 22,
      "outputs": [
        {
          "output_type": "execute_result",
          "data": {
            "text/plain": [
              "Subs(Derivative(x**4 - 5*x**2 + 4, x), x, 2)"
            ],
            "text/latex": "$\\displaystyle \\left. \\frac{d}{d x} \\left(x^{4} - 5 x^{2} + 4\\right) \\right|_{\\substack{ x=2 }}$"
          },
          "metadata": {},
          "execution_count": 22
        }
      ]
    },
    {
      "cell_type": "markdown",
      "source": [
        "# **Bài 3.5**"
      ],
      "metadata": {
        "id": "7lKDbwL5viBX"
      }
    },
    {
      "cell_type": "code",
      "source": [
        "from sympy import Symbol, Limit, S\n",
        "x=Symbol('x')\n",
        "Limit((1+x+x**2+x**3)/(1+x), x, 0, dir= '+' ).doit()"
      ],
      "metadata": {
        "colab": {
          "base_uri": "https://localhost:8080/",
          "height": 38
        },
        "id": "bVmMZxfiu7kg",
        "outputId": "4f54fc6a-e83d-47ec-9b0d-7d475919e869"
      },
      "execution_count": 27,
      "outputs": [
        {
          "output_type": "execute_result",
          "data": {
            "text/plain": [
              "1"
            ],
            "text/latex": "$\\displaystyle 1$"
          },
          "metadata": {},
          "execution_count": 27
        }
      ]
    },
    {
      "cell_type": "markdown",
      "source": [
        "# **Bài 3.7**"
      ],
      "metadata": {
        "id": "NbAz_fvMvmSX"
      }
    },
    {
      "cell_type": "code",
      "source": [
        "from sympy import Symbol, Limit, S, sqrt\n",
        "x = Symbol('x')\n",
        "Limit((sqrt(x**2 - x + 1)/(x - 1)), x , 2, dir='-').doit()"
      ],
      "metadata": {
        "colab": {
          "base_uri": "https://localhost:8080/",
          "height": 38
        },
        "id": "Rei8a6nbvnj1",
        "outputId": "9372844f-df17-4b40-bb4d-e20a2bc0f4c9"
      },
      "execution_count": 28,
      "outputs": [
        {
          "output_type": "execute_result",
          "data": {
            "text/plain": [
              "sqrt(3)"
            ],
            "text/latex": "$\\displaystyle \\sqrt{3}$"
          },
          "metadata": {},
          "execution_count": 28
        }
      ]
    }
  ]
}